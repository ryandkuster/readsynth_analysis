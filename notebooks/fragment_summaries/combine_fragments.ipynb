{
 "cells": [
  {
   "cell_type": "code",
   "execution_count": 1,
   "metadata": {},
   "outputs": [],
   "source": [
    "import json\n",
    "import math\n",
    "import matplotlib.pyplot as plt \n",
    "import numpy as np\n",
    "import os\n",
    "import pandas as pd\n",
    "import seaborn as sns"
   ]
  },
  {
   "cell_type": "code",
   "execution_count": 2,
   "metadata": {},
   "outputs": [],
   "source": [
    "def get_json_object(j):\n",
    "    with open(j) as f_o:\n",
    "        fragments_dt = json.load(f_o)\n",
    "    return fragments_dt"
   ]
  },
  {
   "cell_type": "code",
   "execution_count": 3,
   "metadata": {},
   "outputs": [],
   "source": [
    "def combined_hist(df, pdf_name):\n",
    "    df[\"length\"] = pd.to_numeric(df[\"length\"])\n",
    "    df[\"count\"] = pd.to_numeric(df[\"count\"])\n",
    "    ax = sns.histplot(data=df, x='length', hue='genome',                                \n",
    "                      weights=df['count'], multiple=\"stack\",                          \n",
    "                      binwidth=8, element=\"step\")                                              \n",
    "\n",
    "    old_legend = ax.legend_                                                                        \n",
    "    handles = old_legend.legendHandles                                                             \n",
    "    labels = [t.get_text() for t in old_legend.get_texts()]                                        \n",
    "    ax.legend(handles, labels, bbox_to_anchor=(1.02, 1), loc='upper left', borderaxespad=0)                                                                     \n",
    "    plt.savefig(pdf_name + '/' + 'combined.pdf', bbox_inches='tight')                                                               \n",
    "    plt.close() "
   ]
  },
  {
   "cell_type": "code",
   "execution_count": 4,
   "metadata": {},
   "outputs": [],
   "source": [
    "def save_total_fragments_dt(pdf_name, total_fragments_dt):\n",
    "    with open(pdf_name + '/' + 'combined.json', 'w') as f_o:\n",
    "        fragments_dt = json.dump(total_fragments_dt, f_o)"
   ]
  },
  {
   "cell_type": "code",
   "execution_count": 5,
   "metadata": {},
   "outputs": [],
   "source": [
    "search_dir = '../../analysis_results/4_fragment_recreation/'\n",
    "\n",
    "for i in os.listdir(search_dir):\n",
    "    if i.startswith('SRR') and not i.endswith('.pdf'):\n",
    "        df = pd.DataFrame(columns = ['genome', 'length', 'count'])\n",
    "        for j in os.listdir(os.path.join(search_dir, i)):\n",
    "            if j.startswith('fragment'):\n",
    "                fragments_dt = get_json_object(os.path.join(search_dir, i, j))\n",
    "                tmp_df = pd.DataFrame(fragments_dt.items(), columns = ['length', 'count'])\n",
    "                tmp_df['genome'] = j[18:-9]\n",
    "                df = df.append(tmp_df)\n",
    "        combined_hist(df, os.path.join(search_dir, i))\n",
    "        total_fragments_dt = df.groupby('length')['count'].apply(sum).to_dict()\n",
    "        save_total_fragments_dt(os.path.join(search_dir, i), total_fragments_dt)"
   ]
  },
  {
   "cell_type": "code",
   "execution_count": 7,
   "metadata": {},
   "outputs": [
    {
     "name": "stdout",
     "output_type": "stream",
     "text": [
      "SRR10199724_sim\n",
      "0.9821223208798759\n",
      "SRR10199725_sim\n",
      "0.9696370191297549\n",
      "SRR10199716_sim\n",
      "0.956387428281794\n"
     ]
    }
   ],
   "source": [
    "search_dir = '../../analysis_results/4_fragment_recreation/'\n",
    "\n",
    "for i in os.listdir(search_dir):\n",
    "    if i.startswith('SRR') and not i.endswith('.pdf'):\n",
    "        prob_ls = []\n",
    "        for j in os.listdir(os.path.join(search_dir, i)):\n",
    "            if j.startswith('prob'):\n",
    "                prob_ls.append(get_json_object(os.path.join(search_dir, i, j)))\n",
    "        print(i)\n",
    "        print(sum(prob_ls)/len(prob_ls))"
   ]
  }
 ],
 "metadata": {
  "kernelspec": {
   "display_name": "Python 3",
   "language": "python",
   "name": "python3"
  },
  "language_info": {
   "codemirror_mode": {
    "name": "ipython",
    "version": 3
   },
   "file_extension": ".py",
   "mimetype": "text/x-python",
   "name": "python",
   "nbconvert_exporter": "python",
   "pygments_lexer": "ipython3",
   "version": "3.8.13"
  }
 },
 "nbformat": 4,
 "nbformat_minor": 4
}
